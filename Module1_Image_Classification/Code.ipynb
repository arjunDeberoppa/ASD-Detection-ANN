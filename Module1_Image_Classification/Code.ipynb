{
 "cells": [
  {
   "attachments": {},
   "cell_type": "markdown",
   "metadata": {},
   "source": [
    "# Image Classification Model\n"
   ]
  },
  {
   "cell_type": "code",
   "execution_count": 2,
   "metadata": {},
   "outputs": [
    {
     "name": "stdout",
     "output_type": "stream",
     "text": [
      "Found 2654 images belonging to 2 classes.\n",
      "Found 80 images belonging to 2 classes.\n"
     ]
    },
    {
     "name": "stderr",
     "output_type": "stream",
     "text": [
      "C:\\Users\\arjun\\AppData\\Local\\Temp\\ipykernel_12464\\2207689481.py:48: UserWarning: `Model.fit_generator` is deprecated and will be removed in a future version. Please use `Model.fit`, which supports generators.\n",
      "  model.fit_generator(train, epochs=30, validation_data=val,verbose=1)\n"
     ]
    },
    {
     "name": "stdout",
     "output_type": "stream",
     "text": [
      "Epoch 1/30\n",
      "21/21 [==============================] - 156s 7s/step - loss: 1.1421 - accuracy: 0.5053 - val_loss: 6.5039 - val_accuracy: 0.5000\n",
      "Epoch 2/30\n",
      "21/21 [==============================] - 157s 7s/step - loss: 0.8307 - accuracy: 0.5727 - val_loss: 0.7109 - val_accuracy: 0.6625\n",
      "Epoch 3/30\n",
      "21/21 [==============================] - 153s 7s/step - loss: 0.7287 - accuracy: 0.5049 - val_loss: 0.9342 - val_accuracy: 0.5375\n",
      "Epoch 4/30\n",
      "21/21 [==============================] - 163s 8s/step - loss: 0.6325 - accuracy: 0.6187 - val_loss: 0.8483 - val_accuracy: 0.5875\n",
      "Epoch 5/30\n",
      "21/21 [==============================] - 199s 9s/step - loss: 0.6073 - accuracy: 0.6541 - val_loss: 0.9400 - val_accuracy: 0.5625\n",
      "Epoch 6/30\n",
      "21/21 [==============================] - 305s 14s/step - loss: 0.5929 - accuracy: 0.6869 - val_loss: 0.5870 - val_accuracy: 0.6875\n",
      "Epoch 7/30\n",
      "21/21 [==============================] - 237s 11s/step - loss: 0.6303 - accuracy: 0.6198 - val_loss: 1.2124 - val_accuracy: 0.5250\n",
      "Epoch 8/30\n",
      "21/21 [==============================] - 288s 14s/step - loss: 0.5538 - accuracy: 0.7069 - val_loss: 0.6107 - val_accuracy: 0.7000\n",
      "Epoch 9/30\n",
      "21/21 [==============================] - 197s 9s/step - loss: 0.5161 - accuracy: 0.7543 - val_loss: 1.1866 - val_accuracy: 0.6375\n",
      "Epoch 10/30\n",
      "21/21 [==============================] - 168s 8s/step - loss: 0.4660 - accuracy: 0.7687 - val_loss: 0.5205 - val_accuracy: 0.8000\n",
      "Epoch 11/30\n",
      "21/21 [==============================] - 160s 8s/step - loss: 0.3748 - accuracy: 0.8286 - val_loss: 0.4266 - val_accuracy: 0.8125\n",
      "Epoch 12/30\n",
      "21/21 [==============================] - 145s 7s/step - loss: 0.3109 - accuracy: 0.8742 - val_loss: 0.4909 - val_accuracy: 0.7750\n",
      "Epoch 13/30\n",
      "21/21 [==============================] - 146s 7s/step - loss: 0.3192 - accuracy: 0.8689 - val_loss: 0.6231 - val_accuracy: 0.6750\n",
      "Epoch 14/30\n",
      "21/21 [==============================] - 163s 8s/step - loss: 0.3111 - accuracy: 0.8693 - val_loss: 0.4747 - val_accuracy: 0.7375\n",
      "Epoch 15/30\n",
      "21/21 [==============================] - 150s 7s/step - loss: 0.2090 - accuracy: 0.9228 - val_loss: 0.7323 - val_accuracy: 0.6875\n",
      "Epoch 16/30\n",
      "21/21 [==============================] - 169s 8s/step - loss: 0.1869 - accuracy: 0.9288 - val_loss: 0.6771 - val_accuracy: 0.7000\n",
      "Epoch 17/30\n",
      "21/21 [==============================] - 157s 7s/step - loss: 0.1175 - accuracy: 0.9680 - val_loss: 0.7394 - val_accuracy: 0.6625\n",
      "Epoch 18/30\n",
      "21/21 [==============================] - 139s 7s/step - loss: 0.0898 - accuracy: 0.9714 - val_loss: 1.4175 - val_accuracy: 0.6125\n",
      "Epoch 19/30\n",
      "21/21 [==============================] - 115s 5s/step - loss: 0.0829 - accuracy: 0.9766 - val_loss: 0.7845 - val_accuracy: 0.7500\n",
      "Epoch 20/30\n",
      "21/21 [==============================] - 126s 6s/step - loss: 0.0641 - accuracy: 0.9823 - val_loss: 0.9862 - val_accuracy: 0.6625\n",
      "Epoch 21/30\n",
      "21/21 [==============================] - 166s 8s/step - loss: 0.0429 - accuracy: 0.9928 - val_loss: 0.7658 - val_accuracy: 0.7375\n",
      "Epoch 22/30\n",
      "21/21 [==============================] - 141s 7s/step - loss: 0.0287 - accuracy: 0.9970 - val_loss: 0.6041 - val_accuracy: 0.8125\n",
      "Epoch 23/30\n",
      "21/21 [==============================] - 129s 6s/step - loss: 0.0193 - accuracy: 0.9977 - val_loss: 0.7487 - val_accuracy: 0.7250\n",
      "Epoch 24/30\n",
      "21/21 [==============================] - 129s 6s/step - loss: 0.0130 - accuracy: 0.9992 - val_loss: 0.7806 - val_accuracy: 0.7125\n",
      "Epoch 25/30\n",
      "21/21 [==============================] - 156s 7s/step - loss: 0.0107 - accuracy: 0.9985 - val_loss: 0.8557 - val_accuracy: 0.7000\n",
      "Epoch 26/30\n",
      "21/21 [==============================] - 164s 8s/step - loss: 0.0119 - accuracy: 0.9985 - val_loss: 0.6994 - val_accuracy: 0.7250\n",
      "Epoch 27/30\n",
      "21/21 [==============================] - 165s 8s/step - loss: 0.0118 - accuracy: 0.9985 - val_loss: 0.9008 - val_accuracy: 0.7750\n",
      "Epoch 28/30\n",
      "21/21 [==============================] - 140s 7s/step - loss: 0.0082 - accuracy: 0.9992 - val_loss: 0.7969 - val_accuracy: 0.7125\n",
      "Epoch 29/30\n",
      "21/21 [==============================] - 148s 7s/step - loss: 0.0075 - accuracy: 0.9992 - val_loss: 0.8161 - val_accuracy: 0.8125\n",
      "Epoch 30/30\n",
      "21/21 [==============================] - 136s 6s/step - loss: 0.0052 - accuracy: 1.0000 - val_loss: 0.7927 - val_accuracy: 0.8125\n"
     ]
    },
    {
     "name": "stderr",
     "output_type": "stream",
     "text": [
      "d:\\anaconda\\lib\\site-packages\\keras\\src\\engine\\training.py:3000: UserWarning: You are saving your model as an HDF5 file via `model.save()`. This file format is considered legacy. We recommend using instead the native Keras format, e.g. `model.save('my_model.keras')`.\n",
      "  saving_api.save_model(\n"
     ]
    }
   ],
   "source": [
    "#Import necessary modules for building and training the CNN Model\n",
    "from keras.models import Sequential\n",
    "from keras.layers import Conv2D, MaxPool2D, Flatten, Dense, InputLayer, BatchNormalization, Dropout  #import various types of layers \n",
    "\n",
    "#imports the ImageDataGenerator class from Keras, which is used for loading and preprocessing images.\n",
    "from keras.preprocessing.image import ImageDataGenerator \n",
    "\n",
    "# create an instance of the 'ImageDataGenerator'\n",
    "imagegen = ImageDataGenerator()\n",
    "\n",
    "# loads the training data from the directory\n",
    "train = imagegen.flow_from_directory(r\"C:\\Users\\arjun\\Desktop\\Sanket-main\\Module1_Image_Classification\\train\", class_mode=\"categorical\", shuffle=False, batch_size=128, target_size=(224, 224))\n",
    "\n",
    "# loads the validation data from the directory\n",
    "val = imagegen.flow_from_directory(r\"C:\\Users\\arjun\\Desktop\\Sanket-main\\Module1_Image_Classification\\valid\", class_mode=\"categorical\", shuffle=False, batch_size=128, target_size=(224, 224))\n",
    "\n",
    "# build a sequential model and add an inputlayer to it with shape\n",
    "model = Sequential()\n",
    "model.add(InputLayer(input_shape=(224, 224, 3)))\n",
    "\n",
    "# add a Conv2D layer with 25 filters of size (5, 5), followed by a MaxPool2D layer with a pooling size of (2, 2) and same padding.\n",
    "model.add(Conv2D(25, (5, 5), activation='relu', strides=(1, 1), padding='same'))\n",
    "model.add(MaxPool2D(pool_size=(2, 2), padding='same'))\n",
    "\n",
    "# add another Conv2D layer with 50 filters of size (5, 5), followed by a MaxPool2D layer with a pooling size of (2, 2) and same padding.\n",
    "model.add(Conv2D(50, (5, 5), activation='relu', strides=(2, 2), padding='same'))\n",
    "model.add(MaxPool2D(pool_size=(2, 2), padding='same'))\n",
    "model.add(BatchNormalization())\n",
    "\n",
    "# add another Conv2D layer with 70 filters of size (3, 3), followed by a MaxPool2D layer with a pooling size of (2, 2) and same padding.\n",
    "model.add(Conv2D(70, (3, 3), activation='relu', strides=(2, 2), padding='same'))\n",
    "model.add(MaxPool2D(pool_size=(2, 2), padding='valid'))\n",
    "model.add(BatchNormalization())\n",
    "\n",
    "# ANN block\n",
    "model.add(Flatten())\n",
    "model.add(Dense(units=100, activation='relu'))\n",
    "model.add(Dense(units=100, activation='relu'))\n",
    "model.add(Dropout(0.25))\n",
    "\n",
    "# adds the output layer with 2 units/neurons and a softmax activation function\n",
    "model.add(Dense(units=2, activation='softmax'))\n",
    "\n",
    "# compile model \n",
    "model.compile(loss='categorical_crossentropy', optimizer=\"adam\", metrics=['accuracy'])\n",
    "\n",
    "# fit on data for 30 epochs\n",
    "model.fit_generator(train, epochs=30, validation_data=val,verbose=1)\n",
    "\n",
    "#save the model\n",
    "model.save('my_model.h5')"
   ]
  }
 ],
 "metadata": {
  "kernelspec": {
   "display_name": "Python 3",
   "language": "python",
   "name": "python3"
  },
  "language_info": {
   "codemirror_mode": {
    "name": "ipython",
    "version": 3
   },
   "file_extension": ".py",
   "mimetype": "text/x-python",
   "name": "python",
   "nbconvert_exporter": "python",
   "pygments_lexer": "ipython3",
   "version": "3.10.9"
  },
  "orig_nbformat": 4
 },
 "nbformat": 4,
 "nbformat_minor": 2
}
